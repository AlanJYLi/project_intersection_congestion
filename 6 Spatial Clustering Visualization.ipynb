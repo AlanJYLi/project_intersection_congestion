{
 "cells": [
  {
   "cell_type": "code",
   "execution_count": 7,
   "metadata": {},
   "outputs": [],
   "source": [
    "import numpy as np\n",
    "import matplotlib.pyplot as plt\n",
    "from scipy.spatial import Voronoi, voronoi_plot_2d\n",
    "import pandas as pd\n",
    "import geopandas\n",
    "import pysal as ps\n",
    "import json\n",
    "import geojson\n",
    "import folium"
   ]
  },
  {
   "cell_type": "code",
   "execution_count": 8,
   "metadata": {},
   "outputs": [],
   "source": [
    "def AMOEBA_map(address):\n",
    "    path = 'ProgressDataOutputArchive/AMOEBA/DataPrepare/'+address\n",
    "    jsonfile = path+'/'+address+'_json.json'\n",
    "    with open(jsonfile) as f:\n",
    "        geo_data = json.load(f)\n",
    "    \n",
    "    datafile = 'ProgressDataOutputArchive/AMOEBA/Results/'+address+'_AMOEBA.csv'\n",
    "    data = pd.read_csv(datafile)\n",
    "    data['id'] = data.index+1\n",
    "    data['id'] = data['id'].apply(str)\n",
    "    data = data[['id', 'cluster']]\n",
    "    \n",
    "    m = folium.Map(location=[33.757586, -84.386598],zoom_start=14)\n",
    "\n",
    "    folium.Choropleth(\n",
    "        geo_data=geo_data,\n",
    "        name='choropleth',\n",
    "        data=data,\n",
    "        columns=['id', 'cluster'],\n",
    "        key_on='feature.id',\n",
    "        fill_color='YlGn',\n",
    "        fill_opacity=0.4,\n",
    "        line_opacity=0.2,\n",
    "    ).add_to(m)\n",
    "\n",
    "    folium.LayerControl().add_to(m)\n",
    "    \n",
    "    m.save('ProgressDataOutputArchive/AMOEBA/Results/'+address+'_AMOEBA.html')"
   ]
  },
  {
   "cell_type": "code",
   "execution_count": 9,
   "metadata": {},
   "outputs": [],
   "source": [
    "AMOEBA_map('Weekday_EveningBusy')\n",
    "AMOEBA_map('Weekday_Midnight')\n",
    "AMOEBA_map('Weekday_Morningbusy')\n",
    "AMOEBA_map('Weekday_Normalday')\n",
    "AMOEBA_map('Weekday_Normalnight')\n",
    "AMOEBA_map('Weekend_Eveningbusy')\n",
    "AMOEBA_map('Weekend_Midnight')\n",
    "AMOEBA_map('Weekend_Morningbusy')\n",
    "AMOEBA_map('Weekend_Normalday')\n",
    "AMOEBA_map('Weekend_Normalnight')"
   ]
  }
 ],
 "metadata": {
  "kernelspec": {
   "display_name": "Python 3",
   "language": "python",
   "name": "python3"
  },
  "language_info": {
   "codemirror_mode": {
    "name": "ipython",
    "version": 3
   },
   "file_extension": ".py",
   "mimetype": "text/x-python",
   "name": "python",
   "nbconvert_exporter": "python",
   "pygments_lexer": "ipython3",
   "version": "3.7.3"
  }
 },
 "nbformat": 4,
 "nbformat_minor": 2
}
